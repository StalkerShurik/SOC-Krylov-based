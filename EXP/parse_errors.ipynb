{
 "cells": [
  {
   "cell_type": "code",
   "execution_count": 7,
   "metadata": {},
   "outputs": [],
   "source": [
    "import numpy as np\n",
    "\n",
    "def parse_logs(name):\n",
    "    f = open(name, \"r\")\n",
    "    line = f.readline()\n",
    "    line = f.readline()\n",
    "\n",
    "    orth_err = []\n",
    "    brute_err = []\n",
    "\n",
    "    while(len(line) > 0):\n",
    "        line = f.readline()\n",
    "        vals = line.split(' ')\n",
    "        if len(vals) < 2:\n",
    "            break\n",
    "        orth_err.append(float(vals[0]))\n",
    "        brute_err.append(float(vals[1]))\n",
    "\n",
    "    return orth_err, brute_err\n"
   ]
  },
  {
   "cell_type": "code",
   "execution_count": 8,
   "metadata": {},
   "outputs": [],
   "source": [
    "orth_err = []\n",
    "brute_err = []\n",
    "\n",
    "num_terms = [1,5,10]"
   ]
  },
  {
   "cell_type": "code",
   "execution_count": 9,
   "metadata": {},
   "outputs": [],
   "source": [
    "import os\n",
    "\n",
    "path = \"/home/alexander/HSE/matexp_approximation/SOC/EXP/check_orth\"\n",
    "\n",
    "for file in sorted(os.listdir(path)):\n",
    "    path_to_file = os.path.join(path, file)\n",
    "    orth_err_, brute_err_ = parse_logs(path_to_file)\n",
    "    orth_err.append(orth_err_)\n",
    "    brute_err.append(brute_err_)"
   ]
  },
  {
   "cell_type": "code",
   "execution_count": null,
   "metadata": {},
   "outputs": [],
   "source": [
    "import matplotlib.pyplot as plt\n",
    "\n",
    "fig,ax = plt.subplots(4, 1, figsize=(10,30))\n",
    "\n",
    "N=80\n",
    "\n",
    "line, = ax[0].plot(num_terms, time, marker='o')\n",
    "ax[0].set_xlabel(\"number of terms in train\")\n",
    "ax[0].set_ylabel(\"per epoch time in seconds\")\n",
    "ax[0].set_title('standard Lip5 k-k terms')\n",
    "\n",
    "ax[1].set_xlabel(\"epochs\")\n",
    "ax[1].set_ylabel(\"train accuracy\")\n",
    "ax[1].set_title('train accuracy Lip5')\n",
    "\n",
    "for i, train_accuracy_ in enumerate(train_accuracy):\n",
    "\n",
    "    line, = ax[1].plot(list(range(1,N+1)), train_accuracy_[:N], label=str(num_terms[i]) + '-' + str(num_terms[i]) + ' terms')\n",
    "\n",
    "ax[1].legend()\n",
    "\n",
    "\n",
    "ax[2].set_xlabel(\"epochs\")\n",
    "ax[2].set_ylabel(\"test accuracy\")\n",
    "ax[2].set_title('test accuracy Lip5')\n",
    "\n",
    "for i, test_accuracy_ in enumerate(test_accuracy):\n",
    "\n",
    "    line, = ax[2].plot(list(range(1,N+1)), test_accuracy_[:N], label=str(num_terms[i]) + '-' + str(num_terms[i]) + ' terms')\n",
    "\n",
    "ax[2].legend()\n",
    "\n",
    "\n",
    "ax[3].set_xlabel(\"epochs\")\n",
    "ax[3].set_ylabel(\"robust accuracy\")\n",
    "ax[3].set_title('robust accuracy Lip5')\n",
    "\n",
    "for i, robust_accuracy_ in enumerate(test_robust36):\n",
    "\n",
    "    line, = ax[3].plot(list(range(1,N+1)), robust_accuracy_[:N], label=str(num_terms[i]) + '-' + str(num_terms[i]) + ' terms')\n",
    "\n",
    "ax[3].legend()\n",
    "\n",
    "\n",
    "plt.show()"
   ]
  }
 ],
 "metadata": {
  "kernelspec": {
   "display_name": "Python 3",
   "language": "python",
   "name": "python3"
  },
  "language_info": {
   "codemirror_mode": {
    "name": "ipython",
    "version": 3
   },
   "file_extension": ".py",
   "mimetype": "text/x-python",
   "name": "python",
   "nbconvert_exporter": "python",
   "pygments_lexer": "ipython3",
   "version": "3.10.12"
  }
 },
 "nbformat": 4,
 "nbformat_minor": 2
}
